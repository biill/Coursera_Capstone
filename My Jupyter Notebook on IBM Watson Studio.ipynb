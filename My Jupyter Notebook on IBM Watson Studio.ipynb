{
    "cells": [
        {
            "cell_type": "markdown",
            "metadata": {
                "collapsed": true
            },
            "source": "<h1>My Jupyter Notebook on IBM Watson Studio</h1>"
        },
        {
            "cell_type": "markdown",
            "metadata": {},
            "source": "<b>Sean Tang</b>       \nCurrent Job: software developer"
        },
        {
            "cell_type": "markdown",
            "metadata": {},
            "source": "*I'm intrested on data science because as a software developer I have joined in a tensorflow project in a hackton event, and I was amazed by machine learning, and I decided to learn more*"
        },
        {
            "cell_type": "markdown",
            "metadata": {},
            "source": "<h3>The code below execute 1+1</h3>"
        },
        {
            "cell_type": "code",
            "execution_count": 10,
            "metadata": {},
            "outputs": [
                {
                    "data": {
                        "text/plain": "2"
                    },
                    "execution_count": 10,
                    "metadata": {},
                    "output_type": "execute_result"
                }
            ],
            "source": "1+1"
        },
        {
            "cell_type": "markdown",
            "metadata": {},
            "source": "<a>www.ibm.com</a>   \n\n1. one\n2. two  \n3. three\n4. four\n \n \n- test1\n- test2\n- test3\n- test4\n  \n <font color=blue>Blue</font>\n \n ~~strikethrough~~\n   \n \n| Table      | Description | Test    |\n| :---        |    :----:   |          ---: |\n| row1      | des1       | Test1   |\n| row2   | des2        | Test2      |\n"
        },
        {
            "cell_type": "code",
            "execution_count": null,
            "metadata": {},
            "outputs": [],
            "source": ""
        }
    ],
    "metadata": {
        "kernelspec": {
            "display_name": "Python 3.6",
            "language": "python",
            "name": "python3"
        },
        "language_info": {
            "codemirror_mode": {
                "name": "ipython",
                "version": 3
            },
            "file_extension": ".py",
            "mimetype": "text/x-python",
            "name": "python",
            "nbconvert_exporter": "python",
            "pygments_lexer": "ipython3",
            "version": "3.6.9"
        }
    },
    "nbformat": 4,
    "nbformat_minor": 1
}