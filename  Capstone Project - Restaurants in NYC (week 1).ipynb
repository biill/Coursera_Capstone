{
 "cells": [
  {
   "cell_type": "markdown",
   "metadata": {},
   "source": [
    "# Capstone Project - Restaurants in NYC (week 1)\n"
   ]
  },
  {
   "cell_type": "markdown",
   "metadata": {},
   "source": [
    "## Introduction: Business Problem <a name=\"introduction\"></a>"
   ]
  },
  {
   "cell_type": "markdown",
   "metadata": {},
   "source": [
    " In this project we will try to find an optimal location for a restaurant. Specifically, this report will be targeted to stakeholders interested in opening an **Chinese restaurant** in **Manhattan**, New York.\n",
    "\n",
    "Since there are lots of restaurants in NYC we will try to detect **locations that are not already crowded with restaurants**. We are also particularly interested in **areas with no Chinese restaurants in vicinity**. We would also prefer locations **as close to city center as possible**, assuming that first two conditions are met.\n",
    "\n",
    "We will use our data science powers to generate a few most promissing neighborhoods based on this criteria. Advantages of each area will then be clearly expressed so that best possible final location can be chosen by stakeholders."
   ]
  },
  {
   "cell_type": "markdown",
   "metadata": {},
   "source": [
    "\n",
    "## Analytical approach <a name=\"Analytical approach\"></a>\n",
    "\n",
    "Our problem is clearly a clustering problem. We will therefore rely on a clustering model to solve it. Clustering models are numerous, with the two most popular being K-means clustering and hierarchical clustering.\n",
    "Fortunately, most clustering algorithms are already implemented in open source libraries for the language we will use (Python), therefore we won’t have to do much coding. The most critical and the most tedious part of this project, as with most data science projects, will be to collect and clean the data."
   ]
  },
  {
   "cell_type": "markdown",
   "metadata": {},
   "source": [
    "## Data <a name=\"data\"></a>"
   ]
  },
  {
   "cell_type": "markdown",
   "metadata": {},
   "source": [
    "Based on definition of our problem, factors that will influence our decission are:\n",
    "* number of existing restaurants in the neighborhood (any type of restaurant)\n",
    "* number of and distance to Italian restaurants in the neighborhood, if any\n",
    "* distance of neighborhood from city center\n",
    "\n",
    "We decided to use regularly spaced grid of locations, centered around city center, to define our neighborhoods.\n",
    "\n",
    "Following data sources will be needed to extract/generate the required information:\n",
    "* centers of candidate areas will be generated algorithmically and approximate addresses of centers of those areas will be obtained using **Google Maps API reverse geocoding**\n",
    "* number of restaurants and their type and location in every neighborhood will be obtained using **Foursquare API**\n",
    "* coordinate of NYC center will be obtained using **Google Maps API geocoding** of well known NYC location "
   ]
  },
  {
   "cell_type": "markdown",
   "metadata": {},
   "source": [
    "### Neighborhood Candidates\n",
    "\n",
    "- New York City data that contains Borough, Neighborhoods along with there latitudes and longitudes\n",
    "- Data Source: https://cocl.us/new_york_dataset\n",
    "- Description: This data set contains the required information. And we will use this data set to explore various neighborhoods of new york city.\n",
    "\n",
    "- Chinese restaurants in Manhattan neighborhood of new york city.\n",
    "- Data Source: Foursquare API\n",
    "- Description: By using this API we will get all the venues in Manhattan neighborhood. We can filter these venues to get only Chinese restaurants."
   ]
  }
 ],
 "metadata": {
  "kernelspec": {
   "display_name": "Python 3",
   "language": "python",
   "name": "python3"
  },
  "language_info": {
   "codemirror_mode": {
    "name": "ipython",
    "version": 3
   },
   "file_extension": ".py",
   "mimetype": "text/x-python",
   "name": "python",
   "nbconvert_exporter": "python",
   "pygments_lexer": "ipython3",
   "version": "3.8.4"
  }
 },
 "nbformat": 4,
 "nbformat_minor": 4
}
